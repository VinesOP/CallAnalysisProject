{
  "nbformat": 4,
  "nbformat_minor": 0,
  "metadata": {
    "colab": {
      "provenance": []
    },
    "kernelspec": {
      "name": "python3",
      "display_name": "Python 3"
    },
    "language_info": {
      "name": "python"
    }
  },
  "cells": [
    {
      "cell_type": "code",
      "execution_count": 1,
      "metadata": {
        "colab": {
          "base_uri": "https://localhost:8080/"
        },
        "id": "eAzojs1UOw8p",
        "outputId": "b5153a91-e4c0-4309-dbcf-16b41093c543"
      },
      "outputs": [
        {
          "output_type": "stream",
          "name": "stdout",
          "text": [
            "Mounted at /content/drive\n"
          ]
        }
      ],
      "source": [
        "from google.colab import drive\n",
        "drive.mount('/content/drive')\n"
      ]
    },
    {
      "cell_type": "code",
      "source": [
        "import os\n",
        "\n",
        "base_path = '/content/drive/MyDrive/CallAnalysisProject'\n",
        "os.makedirs(base_path, exist_ok=True)\n",
        "os.makedirs(f'{base_path}/All_Conversations', exist_ok=True)\n",
        "os.makedirs(f'{base_path}/visualizations', exist_ok=True)\n",
        "print(\"Folders created successfully!\")\n"
      ],
      "metadata": {
        "colab": {
          "base_uri": "https://localhost:8080/"
        },
        "id": "bk7s4HfRPnH1",
        "outputId": "5a698524-1e18-4399-dbd2-9d75e3d31716"
      },
      "execution_count": 27,
      "outputs": [
        {
          "output_type": "stream",
          "name": "stdout",
          "text": [
            "Folders created successfully!\n"
          ]
        }
      ]
    },
    {
      "cell_type": "code",
      "source": [
        "import os\n",
        "from zipfile import ZipFile\n",
        "zip_path = '/content/All_Conversations.zip'\n",
        "extract_path = '/content/All_Conversations'\n",
        "os.makedirs(extract_path, exist_ok=True)\n",
        "with ZipFile(zip_path, 'r') as zip_ref:\n",
        "    zip_ref.extractall(extract_path)\n",
        "\n",
        "print(\"Data extracted successfully!\")\n",
        "\n"
      ],
      "metadata": {
        "colab": {
          "base_uri": "https://localhost:8080/"
        },
        "id": "qbGyBFYdPvIY",
        "outputId": "77031d35-3c3e-44db-f7b7-0dc25c51833e"
      },
      "execution_count": 28,
      "outputs": [
        {
          "output_type": "stream",
          "name": "stdout",
          "text": [
            "Data extracted successfully!\n"
          ]
        }
      ]
    },
    {
      "cell_type": "code",
      "source": [
        "os.listdir(extract_path)\n"
      ],
      "metadata": {
        "colab": {
          "base_uri": "https://localhost:8080/"
        },
        "id": "Ti20Fwa4Q3LX",
        "outputId": "436f7d9e-798f-4cab-e6d8-61eb02d7df6e"
      },
      "execution_count": 29,
      "outputs": [
        {
          "output_type": "execute_result",
          "data": {
            "text/plain": [
              "['b8628a31-ef89-4218-b2a2-3058dbc4b106.json',\n",
              " '9fd0d7f9-16b0-4fe3-a090-88c64816c7da.json',\n",
              " 'd1472118-ae60-47a2-a447-ee9b9bfdd0c1.json',\n",
              " 'ecb08af4-0279-4178-a062-b82de0c701fb.json',\n",
              " '52823847-626b-4898-bbf9-1c7cd848c311.json',\n",
              " '66783778-028a-45ff-b1b0-f5c0ea759950.json',\n",
              " '179f40ff-742d-4703-94c4-430f631e3f83.json',\n",
              " 'd3ee9bf9-cf64-468a-83da-fac5c6fb7a41.json',\n",
              " '8a7ed9a3-fc6d-4cff-88bf-da8236d1c834.json',\n",
              " 'b1cc178e-4afc-4da6-8a41-d2fc61db8fef.json',\n",
              " '5a7eebc6-e089-44e9-aa0d-ef2e39ca11fb.json',\n",
              " '94ecf497-5959-44ec-a011-92af3709c38c.json',\n",
              " 'd300835a-37e7-4da5-a998-c2203a674349.json',\n",
              " '29489f77-b8e0-462c-9286-9216d59890f1.json',\n",
              " '1f2c0aff-01cc-4a8e-926a-227527f67356.json',\n",
              " '86686c7b-df90-4b78-8785-b1891b047f26.json',\n",
              " '4832c70d-36a2-40be-a926-b596fd71dafe.json',\n",
              " '89ab3694-2c42-46bc-a602-c545511bf36e.json',\n",
              " 'e25dcc91-27f8-4c0b-9869-496422ceb5c9.json',\n",
              " '1190bab7-d82f-4259-bb55-9617dff7da07.json',\n",
              " '41415d92-c12f-478a-b747-4d94773c2011.json',\n",
              " '54d23e27-49e7-4161-98f9-ff50c737577e.json',\n",
              " '50abe040-847c-47e1-962f-a00d7ff2cfe4.json',\n",
              " '03132d8f-6a7d-47d0-9540-c6a0ac32d946.json',\n",
              " '137ccf2a-5b72-447c-a94c-7f3683ac4671.json',\n",
              " '34afbce9-7315-4a25-826b-5d70446a5dd8.json',\n",
              " 'a76b5b3b-4e50-4e54-9a9e-9bbf6454f743.json',\n",
              " 'd78c5a90-2f3c-4657-a121-9d5778b051bf.json',\n",
              " 'e1e872ea-33c5-49c1-b6f6-8bc2166d77b0.json',\n",
              " '52ddb4a0-0599-4e18-a961-ac4b67da8d5e.json',\n",
              " '73a011af-5fcc-458b-9ae5-48c7367eab5d.json',\n",
              " '966d60ed-9111-4e44-876d-6fcc3d78773e.json',\n",
              " '9865a47f-a7bd-4915-b7df-e7e40fe87d3c.json',\n",
              " '708e7950-1be4-47a7-9c82-e03c88f5a1d0.json',\n",
              " 'ef033aca-2963-44b2-ba77-87b2a5a898f7.json',\n",
              " '5cc64b47-fe6f-44f3-9cf1-9aeec1d57be4.json',\n",
              " '0e2d1981-bd63-4fdd-a4ef-075732cbf26b.json',\n",
              " '6941b4ed-b5d9-451b-8ffc-ee80b4904702.json',\n",
              " '504d8ff3-73a7-4e5e-a2d1-b1ab6abe72eb.json',\n",
              " 'f6a64305-ca58-469a-aaab-cd9f3a2c009d.json',\n",
              " '8b692284-0736-4dcb-a94a-3ee68cf9dcf4.json',\n",
              " '2db2965e-54fa-41fa-823b-ed79b943f0b1.json',\n",
              " '4ff9fec0-757f-4798-9dac-ce77b6cebe7c.json',\n",
              " '4905b25b-9ed7-4a76-b5f3-4a8bd7cdc50b.json',\n",
              " '972a9eec-e801-459f-9cfa-997f7c42ebad.json',\n",
              " 'f2c33efc-17f4-4e42-ab36-8394328d9591.json',\n",
              " '0d825dd5-99b2-4edd-af24-e39952ac84d5.json',\n",
              " '02b08433-58e0-46af-961e-221ba94cb8df.json',\n",
              " 'f3c7fdbb-c742-4c12-abba-f02c1f57895e.json',\n",
              " '2fbb34f8-fa48-4736-bc04-34e12819d43a.json',\n",
              " 'e73ff54e-9287-462f-9fe3-d486c12783df.json',\n",
              " 'fa8af38b-d3f8-415c-a69b-e28dccf8af99.json',\n",
              " 'c67274cc-d920-467a-80cc-476c9dd280d4.json',\n",
              " '68b8e267-3f64-4925-9ecb-6dfb5c1f6462.json',\n",
              " '94609779-f099-4702-9b8f-7d07bc3c7c04.json',\n",
              " 'd6a3e0da-171f-4744-ba2b-7298f2604e7f.json',\n",
              " 'ebaf8b12-5d22-492c-b392-1b92872f7b69.json',\n",
              " '55f06ad3-1c58-4853-8bbb-34b7b97bcbd7.json',\n",
              " 'c9208cf9-bf7a-484e-b1b2-c346144af197.json',\n",
              " 'c1cf9a45-0a69-4543-9994-117bdd4fdaaf.json',\n",
              " 'bd8b74d4-c630-4bb0-ac61-f3c8042f583c.json',\n",
              " '2ca5c9fd-f516-4a89-b25e-8de0ccc16fc3.json',\n",
              " '1937fe41-0ba0-4276-b5cb-50524b28080a.json',\n",
              " 'ecf48f31-9a97-4042-bd79-0c24e6ecb4af.json',\n",
              " 'ce11850d-6743-47cc-be50-2ffda1d2ea0e.json',\n",
              " 'ee078707-82d8-4937-942a-0d1dce58dac5.json',\n",
              " '5e231fa2-03d8-4e70-9918-da45193472a9.json',\n",
              " '9e936113-46a1-4d70-9cc5-876b1c801602.json',\n",
              " 'dbd3e2fd-4a8f-4eb3-aa6f-befcc150bfd8.json',\n",
              " '0b764207-9bf4-4201-b69a-b0e6077a5689.json',\n",
              " '6938c9af-5440-4fd9-a9f9-0db58e211057.json',\n",
              " '0ba31ba1-24ab-4d20-b0f2-eee6bc9a3d42.json',\n",
              " 'b8bf9022-4917-42b9-a6b7-cfa28ee305ad.json',\n",
              " '216fd3c8-1a80-484d-8792-464771794d9e.json',\n",
              " '6e8d1602-d83d-4c06-8144-2f77ededeb7e.json',\n",
              " '2ea925db-df94-4d9b-bd72-6c227742569d.json',\n",
              " '320c83b6-fb0e-4c01-b455-46152a056395.json',\n",
              " '114f3a62-bb17-44aa-bdcf-46873590a1ed.json',\n",
              " '23712d70-65df-47f3-8b69-fe2682aebc70.json',\n",
              " 'a7740050-a728-4577-9fe8-d6edd5458599.json',\n",
              " '171ab2df-da45-49bc-9a7f-e2b0978c6972.json',\n",
              " '8e34b537-4076-4736-b07f-5437c2379e57.json',\n",
              " '36216c4a-0dcd-4d93-ab06-4ed14682d1a3.json',\n",
              " '8ae8018c-15b3-46f6-9713-f956505735ec.json',\n",
              " '5048a566-147f-4d6e-8c1d-73ae83df5afc.json',\n",
              " '99da74ae-edbe-4f56-92dd-a53fe062a480.json',\n",
              " '9505f0e7-5404-4f50-a497-35a9e899197c.json',\n",
              " 'b93535c4-ce25-4fd6-a203-4e726566469b.json',\n",
              " 'ab0a99e3-48f9-430b-9d6c-c5cadd5618de.json',\n",
              " 'df372d50-4a09-4429-91c4-9a87a5f486e2.json',\n",
              " 'b4dcda70-5083-4dc4-96a7-ce6d5e92c2a2.json',\n",
              " 'f383ba9e-3e34-4e0b-a97b-9dbc488ae9ed.json',\n",
              " 'dd662920-e3e6-45da-a97c-a59ed0971b60.json',\n",
              " 'e0a8f9d2-92d6-4093-bb97-82182c6e850f.json',\n",
              " '656fdb00-a46e-4a96-92cd-894eeea08829.json',\n",
              " '695904d8-1095-4980-b16a-fb854ee8284d.json',\n",
              " 'e835306a-d904-4271-8a11-5a50ce98ed90.json',\n",
              " '300337bc-7a64-491d-932a-16c6d05d16a2.json',\n",
              " '41fac7e4-d242-4887-9f54-f891dff6ff70.json',\n",
              " '20690906-b8d4-40c5-8474-9127c47b1299.json',\n",
              " '92477ce7-1d79-4164-a223-c25fc2030f32.json',\n",
              " 'a033d0d6-eb56-4cc8-8e31-0a00c7c94607.json',\n",
              " 'ac0276ef-30d9-4421-8b3e-6886e1b9e508.json',\n",
              " 'abc980d5-1416-463f-b5fe-411e4b1ec168.json',\n",
              " '928acb70-fa80-4532-a0c0-2234bf236e17.json',\n",
              " '8a4bea1a-a00b-4832-ada8-4bf1afacdda6.json',\n",
              " 'a9eab46a-0595-4f5a-9888-b3ae63b06f74.json',\n",
              " '46a46fb9-78ba-4502-873c-7e409f03ffc2.json',\n",
              " '2f279983-ea96-4c10-a09d-4b607de21a38.json',\n",
              " '89d28c5a-f0da-41e9-a93e-0a749c20189c.json',\n",
              " 'a73d777f-368a-46b5-9d59-0aa5829b4427.json',\n",
              " '954ed55c-8bdf-4ce9-8a84-c73d297b74cd.json',\n",
              " '65f99be3-1a8a-4f1f-91f0-7f3a4fe4235b.json',\n",
              " '6387f58b-67bc-490c-857d-71f5daac829e.json',\n",
              " 'c57d3c77-c912-4da9-86ab-25996b9ea07a.json',\n",
              " '348f6912-9877-4576-b0b2-4bcba9858515.json',\n",
              " 'a91cf5c5-a334-451e-b124-6082ee502f88.json',\n",
              " '542ab104-354b-46fd-93a7-ae64906f31ef.json',\n",
              " '695b8667-5b26-45bb-8fbc-cc57fc8ce387.json',\n",
              " '6d0dd32e-cc1e-4624-88f9-2bb70db56f1c.json',\n",
              " '084fc190-bccc-472f-a6f8-de13e814c67d.json',\n",
              " '911b0b97-93ec-49b4-a0ac-7a76dd6a40ce.json',\n",
              " 'e7b6afd3-ec02-47d0-a975-d0d5912151fb.json',\n",
              " 'a4fdf58d-20ad-4b95-901e-ec92458827c1.json',\n",
              " 'c6ba11d2-8bce-427b-973e-7a1d67813330.json',\n",
              " '3c328f04-6095-406a-aabe-f88bdcf2d125.json',\n",
              " '.ipynb_checkpoints',\n",
              " '36066f6f-e10e-4080-920c-ab415b52c54e.json',\n",
              " '3e2412cb-07db-4664-a4ae-2b69a1aae45c.json',\n",
              " 'bb5f1472-36df-4758-9824-4699a60e80f5.json',\n",
              " '05731aab-0e72-46c1-8fd3-dc50fb20c758.json',\n",
              " 'a8de9746-ee32-4126-8faa-726f3b3c7da2.json',\n",
              " '22dd8271-02f8-46bf-bd4e-28c0692b57d1.json',\n",
              " 'b70866a2-2f46-4784-992b-74d6dc60806e.json',\n",
              " '02f1cff9-7d47-4168-b1f9-d9fba10847a0.json',\n",
              " '8127bee7-bc17-47bc-a23c-4a4dc775c8a6.json',\n",
              " 'd071bb49-40f8-4bae-8c6d-cfc0d4a011d5.json',\n",
              " 'f5f05257-aaa0-4194-b84c-36339c4e0659.json',\n",
              " 'b9cfbd3f-48f9-4e48-a4c7-8d8ad876edd2.json',\n",
              " '2dbce9d8-284c-43c9-aaab-736648188892.json',\n",
              " '6eec7cee-53f4-4bc2-8b01-5334b32c565c.json',\n",
              " 'f53b56bf-c27d-4900-8ed6-9c66a4691268.json',\n",
              " '992c9928-1c11-4528-97f9-10a960dd0a58.json',\n",
              " '74aa32ec-6cf0-4c54-bbdb-a8e16d66f457.json',\n",
              " '9d45b90c-1bd1-48e7-b8db-6051b95e51f9.json',\n",
              " 'b6eb2096-6102-431d-b0df-4a87310d46c4.json',\n",
              " 'a89120c1-1f8f-4197-9c86-4c39996b637f.json',\n",
              " '708878fa-108e-4c22-b7bf-1d5c38227087.json',\n",
              " 'acec9db1-1209-4f98-881e-6d413e1aba2d.json',\n",
              " '9e2faf2f-4b66-4aeb-a04b-cbffeb9a7bb4.json',\n",
              " '8b2cb4a3-267b-4a83-8fbb-a82b1a0adee1.json',\n",
              " 'b8553ad6-58ac-4104-b081-b73ca0749d2b.json',\n",
              " '8372d771-4271-47b1-82e7-9cb3562fb380.json',\n",
              " '54026bce-9be0-459f-bfd3-e61150b2e9b7.json',\n",
              " '39c3e29c-7b7c-43d2-999b-eb473ec31de3.json',\n",
              " '8598c6d9-a767-4120-af0a-5490357c72f3.json',\n",
              " '6ca65973-5d6f-4ae8-824d-691263af7c22.json',\n",
              " '00be25b0-458f-4cbf-ae86-ae2ec1f7fba4.json',\n",
              " '872c27de-509a-4495-be25-c9023a343a1b.json',\n",
              " '742147aa-a2df-4429-859e-05b4a7875563.json',\n",
              " 'e96bd606-4673-43e3-b04b-f6a474bb86a0.json',\n",
              " '3e43ed42-da47-46ac-bb54-ec9c5f799124.json',\n",
              " '28968f08-f076-4fca-add3-27d5ee342d6e.json',\n",
              " '63803395-1ed2-405c-afdc-66ed0f48cd45.json',\n",
              " 'ddaea5f2-20b8-439a-a0be-ac92bb606e7a.json',\n",
              " 'd1547036-4c85-47d8-87fb-887083aae978.json',\n",
              " 'c86714f0-3aeb-4628-8cfa-ee0a46839508.json',\n",
              " '60e92cb0-536d-4b03-b778-81dcbef4ea0e.json',\n",
              " 'c46407f6-d657-47ab-9ed7-1c31d5cc8a4e.json',\n",
              " '86bf609e-5d0b-4e4b-a4da-d265c78507a9.json',\n",
              " '23f69c7c-f38b-4f4e-977a-660997b61c70.json',\n",
              " '23f3e9f4-bc9d-4b68-8c1d-d8d4b229db7f.json',\n",
              " '6aa42a81-2d58-4f54-a02a-b73d8457c53d.json',\n",
              " 'e0f3d7f4-5b17-4f27-8826-b0378533c4e2.json',\n",
              " '43bb3199-b004-41ef-a7da-1ae746f1567c.json',\n",
              " '8706edf5-aa69-4338-b09a-122d2e9aa584.json',\n",
              " 'e4ab6a0c-49a4-41a7-9448-f48c5ff25d87.json',\n",
              " '19169ec6-213f-48e9-8ec2-c24ee2e6eb20.json',\n",
              " '833dd6d6-87a7-4fe6-9249-9556c7d92c2f.json',\n",
              " 'ca0741a7-0d6e-4450-b9e9-16da9796c5ee.json',\n",
              " '019b9e97-9575-459e-9893-b59d8c99acef.json',\n",
              " 'b3cc69d6-7e4d-46bc-908f-29f15cebac61.json',\n",
              " '4547f937-4327-4973-97ac-c826259b7c88.json',\n",
              " 'b2c32e46-fdac-420e-b2dd-3929ba661a89.json',\n",
              " '76e1c00c-bdcf-43c1-aee6-ea7dd7fa85fa.json',\n",
              " '229439eb-043f-4267-b327-88838b642233.json',\n",
              " 'fe55cb8b-d868-4309-8a6c-2090bb1c2982.json',\n",
              " '627538ce-998a-49ca-9537-4776e8073ea0.json',\n",
              " '367fd789-cfa1-458b-b005-4a846f6769d9.json',\n",
              " '391b2314-8da8-4e6f-9171-ebb33cb39083.json',\n",
              " '877e2349-9080-4ca9-8f04-f4676ed83774.json',\n",
              " 'bc3cb988-a172-45f0-89a4-c59d4c9cc7a1.json',\n",
              " '7419fc47-2a8a-4203-868f-73e562aeae64.json',\n",
              " '49dca3af-dcec-423e-939d-93811e8a51a9.json',\n",
              " '214c92cc-3141-404d-8224-c1b05acc345c.json',\n",
              " '849b1e2c-abc5-41a4-a1b1-0b97cd2a245d.json',\n",
              " 'a5c3b078-bcb3-4258-9a5a-6a0c5fc082a3.json',\n",
              " '9530d56d-f98f-491f-a29c-88bf3c9ffded.json',\n",
              " '87e28dae-2c70-4122-9452-6ec82164fab2.json',\n",
              " 'b66e19ea-ac01-4f47-a9a0-33d24b0ab438.json',\n",
              " 'e1b7e07b-c906-40f4-9173-5bfbe32f040f.json',\n",
              " 'b155951b-086d-4f20-8fb5-de3e42253ce6.json',\n",
              " '8a9655a7-be88-4921-b0ad-04aa1b9953d1.json',\n",
              " 'af38fcd1-31d5-4128-9dc3-d2b72ecb20c5.json',\n",
              " '0b6979e4-8c05-49e1-b7a7-94d85a627df5.json',\n",
              " '3c56ea72-ffe6-42ae-a7bf-cea432b89f6e.json',\n",
              " '879251ec-628b-466b-9a17-fd5dc45ed969.json',\n",
              " '467483c7-8c70-40dd-9449-384547b9ea93.json',\n",
              " '0bf6844f-af6a-4e46-8d72-9ec01e4bc99a.json',\n",
              " '584fd5cd-adaa-4315-bf67-ad56d02d135e.json',\n",
              " '87b72559-14d4-4750-b55f-9cbb552cd433.json',\n",
              " '5b8dc067-9564-4e0f-b27f-a54f661c36bd.json',\n",
              " '3e6dde01-1a46-42b4-92dd-0a211185e660.json',\n",
              " '91833348-dca2-47a6-9464-cb7371dd8b09.json',\n",
              " 'd4e22ff8-e8e2-4dcb-ad76-3e77ec345eec.json',\n",
              " 'c014e1cd-9cb4-4d8b-98e7-365361a7163b.json',\n",
              " '69e752fa-63f2-408e-9664-7b779b39b518.json',\n",
              " 'e07fbcf9-3cac-4ed4-a6bf-67d4dd985779.json',\n",
              " '522c166e-e8ab-4cb0-99f6-1df45e3481e5.json',\n",
              " '9a6cb7d2-c697-43a0-8cad-4194dfb44c92.json',\n",
              " '3e77de75-66b9-4b74-a993-1c25b6850bc9.json',\n",
              " 'ab6ec93c-09e1-4b88-8777-574ceb28cd05.json',\n",
              " 'b2fefeb0-5115-4042-be07-1ef1ddfa8406.json',\n",
              " 'f3d61724-540e-4665-837d-95c662b34a84.json',\n",
              " 'f152d094-a169-4486-b9af-a66a7716a608.json',\n",
              " '6c896881-40f4-41ae-85c3-aebf302976a5.json',\n",
              " '4f05aaff-585f-485f-90a1-60d027ec6e46.json',\n",
              " 'd7bbea61-d739-43fb-a198-ced1b59f9491.json',\n",
              " 'c0c24a7d-88c3-4ac3-af0d-ad36b9891fb2.json',\n",
              " 'bf973b43-76ec-41a6-af68-a3b4bc4b69b3.json',\n",
              " 'b76917d8-cb80-481a-84d5-25de34e98f95.json',\n",
              " '7cfd0c78-fa7a-4488-9b62-f478f7609089.json',\n",
              " '40b40ec2-8ce2-47a8-b9d4-621285d7b484.json',\n",
              " '3f9a4a6a-2d53-4391-95c9-44306989d6ce.json',\n",
              " '5a19fa85-a36e-446a-9eee-0cc131345156.json',\n",
              " 'f263ceae-29ce-436c-8662-85b1216a638f.json',\n",
              " 'd81e9b6a-6c0c-4ad6-a83f-190e3731746f.json',\n",
              " '1f20a811-7d15-4fc0-b718-effedcc09c13.json',\n",
              " '5c0bf9ad-669f-4a26-8c08-4af6f9698cf0.json',\n",
              " '2f01bebb-f647-43c0-ad44-f1d1f65ad673.json',\n",
              " '04bec80f-8614-484b-8ba2-831ff9dd03ef.json',\n",
              " '80e5fe02-ec03-4ca5-902a-fdf38e6b7b8a.json',\n",
              " '66ad6c2b-1019-4032-945a-41fa5d16f57f.json',\n",
              " 'a70624b3-d7ff-4afe-b4b6-a1a5cceccf13.json',\n",
              " '38231782-a07c-4fbb-a036-723dfdfede1e.json',\n",
              " '23091fb3-8e07-4d4c-8575-227e3467e73a.json',\n",
              " '0c8297aa-ced1-414e-a175-bf29a9763d30.json',\n",
              " '73caf5a2-b721-48fa-932c-757aa5a2c44c.json',\n",
              " 'e272ea2c-dd77-40ff-aefd-9975ca157595.json',\n",
              " '12968330-6da1-4860-b418-417794f640c6.json',\n",
              " 'c5b61bdc-b7f8-4dac-bd32-dc3b520cf301.json']"
            ]
          },
          "metadata": {},
          "execution_count": 29
        }
      ]
    },
    {
      "cell_type": "code",
      "source": [
        "import yaml\n",
        "\n",
        "sample_file = os.path.join(extract_path, os.listdir(extract_path)[0])\n",
        "with open(sample_file, 'r') as file:\n",
        "    conversation = yaml.safe_load(file)\n",
        "\n",
        "print(conversation)\n",
        "\n"
      ],
      "metadata": {
        "colab": {
          "base_uri": "https://localhost:8080/"
        },
        "id": "yHmlN8nIQ8da",
        "outputId": "37458b9b-600b-4a10-cfe1-d9f3efdd78b4"
      },
      "execution_count": 30,
      "outputs": [
        {
          "output_type": "stream",
          "name": "stdout",
          "text": [
            "[{'speaker': 'Agent', 'text': 'Hello, this is Mark from XYZ Collections. How are you today?', 'stime': 0, 'etime': 5}, {'speaker': 'Customer', 'text': \"What the hell do you want? I'm not in the mood for this crap!\", 'stime': 4.5, 'etime': 10}, {'speaker': 'Agent', 'text': \"I understand this may not be a good time. I'm calling regarding your outstanding balance. Can you please confirm your date of birth for identity verification?\", 'stime': 9, 'etime': 20}, {'speaker': 'Customer', 'text': 'You think I’m just going to give you that? Screw off!', 'stime': 19, 'etime': 24}, {'speaker': 'Agent', 'text': 'I assure you, I can only proceed with verification after confirming your identity. Your privacy is important to us.', 'stime': 23, 'etime': 33}, {'speaker': 'Customer', 'text': 'What a joke! I don’t owe you anything, you idiots!', 'stime': 32, 'etime': 37}, {'speaker': 'Agent', 'text': 'I understand your frustration, but I must verify your information. Could you please provide your address?', 'stime': 36, 'etime': 46}, {'speaker': 'Customer', 'text': \"Ugh! It's 1234 Ridiculous Lane, but I’m telling you, you’re wasting your time!\", 'stime': 45, 'etime': 53}, {'speaker': 'Agent', 'text': 'Thank you for that information. Now, I see a balance of $500 on your account. How would you like to address this?', 'stime': 52, 'etime': 62}, {'speaker': 'Customer', 'text': 'I don’t have to pay a damn thing! You can go to hell!', 'stime': 61, 'etime': 67}, {'speaker': 'Agent', 'text': 'I understand this is not easy to discuss. However, we can work out a payment plan that suits you.', 'stime': 66, 'etime': 76}, {'speaker': 'Customer', 'text': 'You really think I’m going to negotiate with you people? No chance!', 'stime': 75, 'etime': 82}, {'speaker': 'Agent', 'text': \"I respect your decision. Just know that I'm here to help if you change your mind. Thank you for your time today.\", 'stime': 81, 'etime': 91}, {'speaker': 'Customer', 'text': 'Whatever, don’t call me again!', 'stime': 90, 'etime': 94}, {'speaker': 'Agent', 'text': 'Thank you for the conversation. Have a good day.', 'stime': 93, 'etime': 100}]\n"
          ]
        }
      ]
    },
    {
      "cell_type": "code",
      "source": [
        "import re\n",
        "\n",
        "profane_words = [\n",
        "    \"hell\", \"crap\", \"screw\", \"idiots\", \"damn\", \"stupid\", \"jerk\", \"fool\",\n",
        "    \"shut up\", \"moron\", \"dumb\", \"trash\", \"useless\", \"worthless\", \"loser\",\n",
        "    \"annoying\", \"nonsense\", \"bullshit\", \"freak\", \"idiot\"\n",
        "]\n",
        "\n",
        "profane_pattern = re.compile(r'\\b(' + '|'.join(re.escape(word) for word in profane_words) + r')\\b', re.IGNORECASE)\n",
        "\n",
        "def detect_profanity(conversation, speaker_type):\n",
        "    profane_utterances = []\n",
        "    for utterance in conversation:\n",
        "        if utterance['speaker'].lower() == speaker_type.lower() and profane_pattern.search(utterance['text']):\n",
        "            profane_utterances.append({\n",
        "                'text': utterance['text'],\n",
        "                'stime': utterance['stime'],\n",
        "                'etime': utterance['etime']\n",
        "            })\n",
        "    return profane_utterances\n",
        "\n",
        "agent_profanity = detect_profanity(conversation, 'Agent')\n",
        "customer_profanity = detect_profanity(conversation, 'Customer')\n",
        "\n",
        "print(\"Profane utterances by Agent:\")\n",
        "for utterance in agent_profanity:\n",
        "    print(utterance)\n",
        "\n",
        "print(\"\\nProfane utterances by Customer:\")\n",
        "for utterance in customer_profanity:\n",
        "    print(utterance)\n"
      ],
      "metadata": {
        "colab": {
          "base_uri": "https://localhost:8080/"
        },
        "id": "00xQG1U_RtKy",
        "outputId": "8788aad3-e345-48db-c01d-fa4269a71848"
      },
      "execution_count": 31,
      "outputs": [
        {
          "output_type": "stream",
          "name": "stdout",
          "text": [
            "Profane utterances by Agent:\n",
            "\n",
            "Profane utterances by Customer:\n",
            "{'text': \"What the hell do you want? I'm not in the mood for this crap!\", 'stime': 4.5, 'etime': 10}\n",
            "{'text': 'You think I’m just going to give you that? Screw off!', 'stime': 19, 'etime': 24}\n",
            "{'text': 'What a joke! I don’t owe you anything, you idiots!', 'stime': 32, 'etime': 37}\n",
            "{'text': 'I don’t have to pay a damn thing! You can go to hell!', 'stime': 61, 'etime': 67}\n"
          ]
        }
      ]
    },
    {
      "cell_type": "code",
      "source": [
        "sensitive_keywords = [\"balance\", \"account\", \"payment\", \"due\", \"outstanding\"]\n",
        "verification_keywords = [\"date of birth\", \"address\", \"social security number\", \"identity verification\"]\n",
        "\n",
        "sensitive_pattern = re.compile(r'\\b(' + '|'.join(re.escape(word) for word in sensitive_keywords) + r')\\b', re.IGNORECASE)\n",
        "verification_pattern = re.compile(r'\\b(' + '|'.join(re.escape(word) for word in verification_keywords) + r')\\b', re.IGNORECASE)\n",
        "\n",
        "def detect_non_compliance(conversation):\n",
        "    non_compliant_calls = []\n",
        "    verified = False\n",
        "    for utterance in conversation:\n",
        "        if utterance['speaker'].lower() == 'customer' and verification_pattern.search(utterance['text']):\n",
        "            verified = True\n",
        "        elif utterance['speaker'].lower() == 'agent' and sensitive_pattern.search(utterance['text']) and not verified:\n",
        "            non_compliant_calls.append({\n",
        "                'text': utterance['text'],\n",
        "                'stime': utterance['stime'],\n",
        "                'etime': utterance['etime']\n",
        "            })\n",
        "    return non_compliant_calls\n",
        "\n",
        "non_compliance_cases = detect_non_compliance(conversation)\n",
        "\n",
        "print(\"\\nNon-compliant utterances by Agent:\")\n",
        "for utterance in non_compliance_cases:\n",
        "    print(utterance)\n"
      ],
      "metadata": {
        "colab": {
          "base_uri": "https://localhost:8080/"
        },
        "id": "J68YBKZPZTf_",
        "outputId": "4e24c594-0b06-4725-e034-60fcb1daa8d9"
      },
      "execution_count": 34,
      "outputs": [
        {
          "output_type": "stream",
          "name": "stdout",
          "text": [
            "\n",
            "Non-compliant utterances by Agent:\n",
            "{'text': \"I understand this may not be a good time. I'm calling regarding your outstanding balance. Can you please confirm your date of birth for identity verification?\", 'stime': 9, 'etime': 20}\n",
            "{'text': 'Thank you for that information. Now, I see a balance of $500 on your account. How would you like to address this?', 'stime': 52, 'etime': 62}\n",
            "{'text': 'I understand this is not easy to discuss. However, we can work out a payment plan that suits you.', 'stime': 66, 'etime': 76}\n"
          ]
        }
      ]
    },
    {
      "cell_type": "code",
      "source": [
        "def calculate_call_metrics(conversation):\n",
        "    total_duration = conversation[-1]['etime'] - conversation[0]['stime']\n",
        "    overtalk_duration = 0\n",
        "    silence_duration = 0\n",
        "    last_etime = 0\n",
        "\n",
        "    for i in range(len(conversation)):\n",
        "        stime = conversation[i]['stime']\n",
        "        etime = conversation[i]['etime']\n",
        "\n",
        "        if stime > last_etime:\n",
        "            silence_duration += stime - last_etime\n",
        "\n",
        "        if i > 0 and conversation[i-1]['etime'] > stime:\n",
        "            overtalk_duration += conversation[i-1]['etime'] - stime\n",
        "\n",
        "        last_etime = max(last_etime, etime)\n",
        "\n",
        "    silence_percentage = (silence_duration / total_duration) * 100\n",
        "    overtalk_percentage = (overtalk_duration / total_duration) * 100\n",
        "\n",
        "    return silence_percentage, overtalk_percentage\n",
        "\n",
        "silence_percentage, overtalk_percentage = calculate_call_metrics(conversation)\n",
        "\n",
        "print(f\"\\nSilence Percentage: {silence_percentage:.2f}%\")\n",
        "print(f\"Overtalk Percentage: {overtalk_percentage:.2f}%\")\n",
        "\n"
      ],
      "metadata": {
        "colab": {
          "base_uri": "https://localhost:8080/"
        },
        "id": "ns_1B5TeTUm5",
        "outputId": "f4eeb397-c0a0-4149-9ec4-ae2d4973cc49"
      },
      "execution_count": 35,
      "outputs": [
        {
          "output_type": "stream",
          "name": "stdout",
          "text": [
            "\n",
            "Silence Percentage: 0.00%\n",
            "Overtalk Percentage: 13.50%\n"
          ]
        }
      ]
    },
    {
      "cell_type": "code",
      "source": [
        "import matplotlib.pyplot as plt\n",
        "\n",
        "def visualize_metrics(silence_percentage, overtalk_percentage, save_path=None):\n",
        "    labels = ['Silence', 'Overtalk', 'Speaking']\n",
        "    speaking_percentage = 100 - silence_percentage - overtalk_percentage\n",
        "    sizes = [silence_percentage, overtalk_percentage, speaking_percentage]\n",
        "    colors = ['lightblue', 'lightcoral', 'lightgreen']\n",
        "    explode = (0.1, 0.1, 0)\n",
        "\n",
        "    plt.figure(figsize=(8, 6))\n",
        "    plt.pie(sizes, explode=explode, labels=labels, colors=colors, autopct='%1.1f%%', startangle=140)\n",
        "    plt.title(\"Call Quality Metrics\")\n",
        "    plt.axis('equal')\n",
        "\n",
        "    if save_path:\n",
        "        plt.savefig(save_path)\n",
        "        print(f\"Saved the chart as {save_path}\")\n",
        "    else:\n",
        "        plt.show()\n",
        "\n",
        "save_path = \"call_quality_metrics.png\"\n",
        "visualize_metrics(silence_percentage, overtalk_percentage, save_path)\n"
      ],
      "metadata": {
        "colab": {
          "base_uri": "https://localhost:8080/",
          "height": 538
        },
        "id": "7bHo33eWSURk",
        "outputId": "51671e17-b326-4b9f-87c7-8645d8f19c9e"
      },
      "execution_count": 38,
      "outputs": [
        {
          "output_type": "stream",
          "name": "stdout",
          "text": [
            "Saved the chart as call_quality_metrics.png\n"
          ]
        },
        {
          "output_type": "display_data",
          "data": {
            "text/plain": [
              "<Figure size 800x600 with 1 Axes>"
            ],
            "image/png": "[encoded data removed]"
          },
          "metadata": {}
        }
      ]
    }
  ]
}